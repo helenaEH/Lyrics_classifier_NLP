{
 "cells": [
  {
   "cell_type": "markdown",
   "metadata": {},
   "source": [
    "# Lyrics Classification Project"
   ]
  },
  {
   "cell_type": "markdown",
   "metadata": {},
   "source": [
    "### Step 1. Importing libraries"
   ]
  },
  {
   "cell_type": "code",
   "execution_count": 1,
   "metadata": {},
   "outputs": [],
   "source": [
    "import requests\n",
    "import re\n",
    "from bs4 import BeautifulSoup\n",
    "import numpy as np\n",
    "import pandas as pd\n",
    "import random\n",
    "import matplotlib.pyplot as plt \n",
    "\n",
    "from sklearn.model_selection import train_test_split, cross_val_score\n",
    "from sklearn.feature_extraction.text import CountVectorizer, TfidfTransformer\n",
    "from sklearn.naive_bayes import MultinomialNB\n",
    "from sklearn.decomposition import LatentDirichletAllocation\n",
    "\n",
    "import spacy \n",
    "nlp = spacy.load('en_core_web_sm')"
   ]
  },
  {
   "cell_type": "markdown",
   "metadata": {},
   "source": [
    "### Step 2. To scrape the lyrics use lyrics_scraper.py to save lyrics as csv files"
   ]
  },
  {
   "cell_type": "code",
   "execution_count": 2,
   "metadata": {},
   "outputs": [],
   "source": [
    "ETTA = 'Etta'\n",
    "BILLY = 'Billy'"
   ]
  },
  {
   "cell_type": "markdown",
   "metadata": {},
   "source": [
    "### Step 3. Extracting clean text from lyrics"
   ]
  },
  {
   "cell_type": "code",
   "execution_count": 24,
   "metadata": {},
   "outputs": [],
   "source": [
    "def lyrics_cleaner(lyrics):\n",
    "    \"\"\" Clean html leftovers with regex \"\"\"\n",
    "    lyrics_clean = []\n",
    "    for i in lyrics:\n",
    "        text = re.sub('\\r|\\s+|\\(|\\)|\\[|\\]|\\,|\\?|\\!|\\-|\\\"|\\:|\\;|\\.|\\“|\\\"|\\”|CHORUS', ' ', i)\n",
    "        lyrics_clean.append(text)\n",
    "    word_end = []\n",
    "    for j in lyrics_clean:\n",
    "        text2 = re.sub('''(?:_a)?in'\\s''', 'ing ', j)\n",
    "        word_end.append(text2)\n",
    "    return word_end\n",
    "\n",
    "def import_data(first_name):\n",
    "    \"\"\" Import csv, clean lyrics syntax, drop duplicates, convert back to list \"\"\"\n",
    "    l = lyrics_cleaner(pd.read_csv(f'{first_name}_cleaned.csv')['0'].tolist())\n",
    "    return l\n",
    "\n",
    "def drop_duplicates(spacyfied_lyr):\n",
    "    \"\"\" Take first 6 words of the lyrics, add as new column, drop duplicate rows, join back to original df \"\"\"\n",
    "    splitted_text =[]\n",
    "    joined_back= []\n",
    "    df = pd.DataFrame(spacyfied_lyr)\n",
    "    for i in spacyfied_lyr:\n",
    "        splitted = i.lower().split()\n",
    "        first_six = splitted[0:6]\n",
    "        splitted_text.append(first_six)\n",
    "    for j in splitted_text:\n",
    "        joined = ' '.join(j)\n",
    "        joined_back.append(joined)\n",
    "    drop_dup = pd.DataFrame(joined_back).drop_duplicates()\n",
    "    merged = pd.merge(df, drop_dup, how='inner', left_index=True, right_index=True).iloc[:,0].to_list()\n",
    "    return merged"
   ]
  },
  {
   "cell_type": "code",
   "execution_count": 4,
   "metadata": {},
   "outputs": [],
   "source": [
    "etta_lyr = drop_duplicates(import_data(ETTA))\n",
    "del etta_lyr[176], etta_lyr[91]  # Unclean data on lyrics.com: Gucci Mane song instead of Etta's song -> del\n",
    "billy_lyr = drop_duplicates(import_data(BILLY))"
   ]
  },
  {
   "cell_type": "markdown",
   "metadata": {},
   "source": [
    "### Step 4. Balancing classes"
   ]
  },
  {
   "cell_type": "code",
   "execution_count": 5,
   "metadata": {},
   "outputs": [
    {
     "name": "stdout",
     "output_type": "stream",
     "text": [
      "Number of Etta James' songs: 224\n",
      "Number of Billy Joel's songs: 151\n"
     ]
    }
   ],
   "source": [
    "print (f'''Number of Etta James' songs: {len(etta_lyr)}\n",
    "Number of Billy Joel's songs: {len(billy_lyr)}''')"
   ]
  },
  {
   "cell_type": "code",
   "execution_count": 6,
   "metadata": {},
   "outputs": [],
   "source": [
    "random.seed(10)\n",
    "index = random.sample(range(len(etta_lyr)), len(etta_lyr)-len(billy_lyr))\n",
    "\n",
    "def dropped_songs(etta_lyr):\n",
    "    \"\"\" Keep dropped songs to use later for model evaluation \"\"\"\n",
    "    etta_dropped = []\n",
    "    for i in index:\n",
    "        song = etta_lyr[i]\n",
    "        etta_dropped.append(song)\n",
    "    return etta_dropped \n",
    "\n",
    "def random_delete(song_lyr):\n",
    "    \"\"\" Deletes randomly selected songs to even the classes \"\"\"\n",
    "    for i in sorted(index, reverse=True):\n",
    "        del song_lyr[i] \n",
    "    return song_lyr"
   ]
  },
  {
   "cell_type": "code",
   "execution_count": 7,
   "metadata": {},
   "outputs": [],
   "source": [
    "etta_dropped = dropped_songs(etta_lyr)\n",
    "etta_lyr = random_delete(etta_lyr)\n",
    "lyrics = etta_lyr + billy_lyr"
   ]
  },
  {
   "cell_type": "markdown",
   "metadata": {},
   "source": [
    "## Natural Language Processing"
   ]
  },
  {
   "cell_type": "markdown",
   "metadata": {},
   "source": [
    "### Step 6. Token preprocessing with Spacy "
   ]
  },
  {
   "cell_type": "code",
   "execution_count": 8,
   "metadata": {},
   "outputs": [],
   "source": [
    "def spacify_my_text(lyrics_text):\n",
    "    \"\"\" Use Spacy to lowercae all characters, lemmatize words and remove stop words \"\"\"\n",
    "    spacyfied = []\n",
    "    for sentence in lyrics_text:\n",
    "        parsed_sentence = nlp(sentence.lower())\n",
    "        treated_sentence = ''\n",
    "        for token in parsed_sentence:\n",
    "            if not token.is_stop:\n",
    "                treated_sentence += str(token.lemma_) + ' '\n",
    "        spacyfied.append(treated_sentence.strip())\n",
    "    return spacyfied\n",
    "\n",
    "lyr_spacy = spacify_my_text(lyrics)"
   ]
  },
  {
   "cell_type": "markdown",
   "metadata": {},
   "source": [
    "### Step 7. Train test split"
   ]
  },
  {
   "cell_type": "code",
   "execution_count": 9,
   "metadata": {},
   "outputs": [],
   "source": [
    "X = pd.Series(lyr_spacy)\n",
    "y = [ETTA] * len(etta_lyr) + [BILLY] * len(billy_lyr)\n",
    "\n",
    "X_train, X_test, y_train, y_test = train_test_split(X, y, random_state=42)"
   ]
  },
  {
   "cell_type": "markdown",
   "metadata": {},
   "source": [
    "### Step 8. Converting text into a numerical matrix with Bag of Words and using Multinominal Naive Bayes classifier to train the data"
   ]
  },
  {
   "cell_type": "code",
   "execution_count": 10,
   "metadata": {},
   "outputs": [],
   "source": [
    "def cv_tf():\n",
    "    \"\"\" Convert text to matrix of token counts, normalize the representation of the matrix \"\"\"\n",
    "    cv = CountVectorizer(min_df=5)\n",
    "    tf = TfidfTransformer()\n",
    "    return cv, tf\n",
    "\n",
    "def fit_transform_X(X_input):\n",
    "    \"\"\" Count Vectorizer converts vector into a matrix, TD-IDF normalizes the matrix \"\"\"\n",
    "    X_vec = cv.fit_transform(X_input)\n",
    "    X_tf = tf.fit_transform(X_vec)\n",
    "    return X_tf\n",
    "\n",
    "def transform_X(X_input):\n",
    "    \"\"\" Transform vector to matrix, according to training fit_transform \"\"\"\n",
    "    X_vec = cv.transform(X_input)\n",
    "    X_tf = tf.transform(X_vec)\n",
    "    return X_tf\n",
    "\n",
    "def naive_bayes(X_tf, y_train):\n",
    "    \"\"\" Count Vectorizer and TD-IDF \"\"\"\n",
    "    m = MultinomialNB()\n",
    "    m.fit(X_tf, y_train)\n",
    "    return m\n",
    "\n",
    "def model_score(X, y, model):\n",
    "    \"\"\" Calculates the training and validation accuracy \"\"\"\n",
    "    score = model.score(X, y).round(4)\n",
    "    val_acc = cross_val_score(model, X, y, cv=5).round(4)\n",
    "    return score, val_acc    "
   ]
  },
  {
   "cell_type": "code",
   "execution_count": 11,
   "metadata": {},
   "outputs": [],
   "source": [
    "cv, tf = cv_tf()\n",
    "X_train_tf = fit_transform_X(X_train)\n",
    "model = naive_bayes(X_train_tf, y_train) \n",
    "score_train, val_acc_train = model_score(X_train_tf, y_train, model)"
   ]
  },
  {
   "cell_type": "code",
   "execution_count": 12,
   "metadata": {},
   "outputs": [],
   "source": [
    "X_test_tf = transform_X(X_test)\n",
    "score_test, val_acc_test = model_score(X_test_tf, y_test, model)"
   ]
  },
  {
   "cell_type": "code",
   "execution_count": 13,
   "metadata": {},
   "outputs": [
    {
     "name": "stdout",
     "output_type": "stream",
     "text": [
      "Training accuracy: 0.9602\n",
      "Training cross-validation accuracy mean: 0.8051\n",
      "Test accuracy: 0.75\n",
      "Test cross-validation accuracy mean: 0.6317\n"
     ]
    }
   ],
   "source": [
    "print(f'Training accuracy: {score_train}')\n",
    "print(f'Training cross-validation accuracy mean: {val_acc_train.mean().round(4)}')\n",
    "print(f'Test accuracy: {score_test}')\n",
    "print(f'Test cross-validation accuracy mean: {val_acc_test.mean().round(4)}')"
   ]
  },
  {
   "cell_type": "markdown",
   "metadata": {},
   "source": [
    "### Step 9. Word occurence mapping \n",
    "More insigihts from the analysis -> which words are likely to belong to which artist"
   ]
  },
  {
   "cell_type": "code",
   "execution_count": 14,
   "metadata": {},
   "outputs": [
    {
     "data": {
      "text/plain": [
       "<matplotlib.axes._subplots.AxesSubplot at 0x23880b845f8>"
      ]
     },
     "execution_count": 14,
     "metadata": {},
     "output_type": "execute_result"
    },
    {
     "data": {
      "image/png": "[encoded data removed]",
      "text/plain": [
       "<Figure size 1080x360 with 1 Axes>"
      ]
     },
     "metadata": {
      "needs_background": "light"
     },
     "output_type": "display_data"
    }
   ],
   "source": [
    "def word_occurence():\n",
    "    \"\"\" Creates table of most occurring words using log probabilities of features \"\"\"\n",
    "    feature_log_probs = model.feature_log_prob_\n",
    "    diff = feature_log_probs[0]-feature_log_probs[1]\n",
    "    likelyhood = pd.DataFrame(data=diff, index = sorted(cv.vocabulary_.keys())\n",
    "                             ).sort_values(by=0).rename({0: ' '}, axis = 1)\n",
    "    head = likelyhood.head(15)\n",
    "    tail = likelyhood.tail(15)\n",
    "    important_words = pd.concat([head, tail])\n",
    "    fig = important_words.plot(kind='bar', \n",
    "                           figsize=(15,5), \n",
    "                           fontsize=13, \n",
    "                           legend=None, \n",
    "                           color=[np.where(important_words.iloc[:,0]>0, 'g', 'r')], \n",
    "                           alpha=0.5)\n",
    "    plt.title('Most occurring words in Etta James (left) and Billy Joel (right) lyrics ')\n",
    "    return fig \n",
    "\n",
    "word_occurence()"
   ]
  },
  {
   "cell_type": "markdown",
   "metadata": {},
   "source": [
    "### Step 10. Testing the model on 73 Etta James songs that were taken out to balance the classes"
   ]
  },
  {
   "cell_type": "code",
   "execution_count": 15,
   "metadata": {},
   "outputs": [
    {
     "data": {
      "text/plain": [
       "<BarContainer object of 2 artists>"
      ]
     },
     "execution_count": 15,
     "metadata": {},
     "output_type": "execute_result"
    },
    {
     "data": {
      "image/png": "[encoded data removed]",
      "text/plain": [
       "<Figure size 432x288 with 1 Axes>"
      ]
     },
     "metadata": {
      "needs_background": "light"
     },
     "output_type": "display_data"
    }
   ],
   "source": [
    "def prediction_tester(etta_dropped):\n",
    "    \"\"\" Predicts lyrics for Etta James songs \"\"\"\n",
    "    etta_tf = transform_X(spacify_my_text(etta_dropped))\n",
    "    y_true = len(etta_dropped) * [ETTA]\n",
    "    score = model.score(etta_tf, y_true).round(2)\n",
    "    prediction = model.predict(etta_tf)\n",
    "    unique, counts = np.unique(prediction, return_counts=True)\n",
    "    fig2 = plt.bar(unique, counts, color=('r', 'g'), alpha = 0.4)\n",
    "    plt.title(f'Model accuracy on 73 Etta songs: {score}')\n",
    "    return fig2\n",
    "prediction_tester(etta_dropped)                            "
   ]
  },
  {
   "cell_type": "markdown",
   "metadata": {},
   "source": [
    "### Potential for improvement\n",
    "Billy Joel has more unique words per song -> balance lyrics distribution "
   ]
  },
  {
   "cell_type": "code",
   "execution_count": 16,
   "metadata": {},
   "outputs": [],
   "source": [
    "def lyrics_distribution(lyrics, colname):\n",
    "    df = pd.DataFrame(lyrics, columns=[colname])\n",
    "    df_cleanup = df[colname].str.lower().str.split()\n",
    "    df['LyricsCounter'] = df_cleanup.apply(set).apply(len)\n",
    "    return df"
   ]
  },
  {
   "cell_type": "code",
   "execution_count": 17,
   "metadata": {},
   "outputs": [],
   "source": [
    "billy_df = lyrics_distribution(billy_lyr, BILLY)\n",
    "etta_df = lyrics_distribution(etta_lyr, ETTA)"
   ]
  },
  {
   "cell_type": "code",
   "execution_count": 18,
   "metadata": {},
   "outputs": [
    {
     "data": {
      "text/plain": [
       "Text(0.5, 1.0, 'Lyrics length distribution - Etta (red), Billy (blue)')"
      ]
     },
     "execution_count": 18,
     "metadata": {},
     "output_type": "execute_result"
    },
    {
     "data": {
      "image/png": "[encoded data removed]",
      "text/plain": [
       "<Figure size 432x288 with 1 Axes>"
      ]
     },
     "metadata": {
      "needs_background": "light"
     },
     "output_type": "display_data"
    }
   ],
   "source": [
    "billy_df['LyricsCounter'].hist(alpha=0.5)\n",
    "etta_df['LyricsCounter'].hist(color='r', alpha=0.5)\n",
    "plt.title('Lyrics length distribution - Etta (red), Billy (blue)')"
   ]
  },
  {
   "cell_type": "code",
   "execution_count": null,
   "metadata": {},
   "outputs": [],
   "source": []
  }
 ],
 "metadata": {
  "kernelspec": {
   "display_name": "Python 3",
   "language": "python",
   "name": "python3"
  },
  "language_info": {
   "codemirror_mode": {
    "name": "ipython",
    "version": 3
   },
   "file_extension": ".py",
   "mimetype": "text/x-python",
   "name": "python",
   "nbconvert_exporter": "python",
   "pygments_lexer": "ipython3",
   "version": "3.7.3"
  }
 },
 "nbformat": 4,
 "nbformat_minor": 2
}
